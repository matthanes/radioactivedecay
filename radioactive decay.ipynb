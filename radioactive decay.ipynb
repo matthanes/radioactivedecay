{
 "cells": [
  {
   "cell_type": "code",
   "execution_count": 2,
   "id": "1db1b4bd-4ddf-4688-9ce8-f797021f2a21",
   "metadata": {},
   "outputs": [],
   "source": [
    "%matplotlib inline \n",
    "\n",
    "# import matplotlib and numpy\n",
    "import matplotlib.pyplot as plt \n",
    "import numpy as np \n",
    "\n",
    "from ipywidgets import interactive, interact, Label, widgets, Layout, Button, Box, HBox, VBox\n",
    "from IPython.display import display\n",
    "from IPython.display import Audio\n",
    "\n",
    "def decay_plot(halflife):\n",
    "    #Function that takes halflife as an input and displays a graph\n",
    "    \n",
    "    # Set the baseline number of activity. 1000 is a nice round number\n",
    "    A0 = 1000\n",
    "    # Set the maximum on the x-axis\n",
    "    maxtime = 200\n",
    "    \n",
    "    #calculate decay constant\n",
    "    lam=np.log(2)/halflife\n",
    "    \n",
    "    # Generate the x and y points for the decay curve\n",
    "    x = np.arange(0,maxtime, 1)\n",
    "    y = A0 * np.exp(-x*lam)\n",
    "    \n",
    "    # Generate the x and y points for the half life horizontal and vertical lines\n",
    "    x1 = np.arange(0,halflife, 1)\n",
    "    y1 = x1*0+(A0/2)\n",
    "    y2 = np.arange(0,A0/2, 1)\n",
    "    x2 = y2*0+halflife\n",
    "\n",
    "    # Plot the results\n",
    "    plt.axis([0,200,0,1000])\n",
    "    plt.plot(x,y)\n",
    "    plt.plot(x1,y1,color=\"green\")\n",
    "    plt.plot(x2,y2,color=\"green\")\n",
    "    plt.ylabel(\"Number of atoms\")\n",
    "    plt.xlabel(\"Time (min)\")\n",
    "    plt.title(\"Half-life = %s min\" %halflife)\n",
    "    plt.show() "
   ]
  },
  {
   "cell_type": "code",
   "execution_count": 3,
   "id": "0e2ff1cb-2da8-4caa-bab0-be4b7a5592b7",
   "metadata": {},
   "outputs": [
    {
     "data": {
      "application/vnd.jupyter.widget-view+json": {
       "model_id": "eff195445ba64f5ea8bcfaf0b66c1f97",
       "version_major": 2,
       "version_minor": 0
      },
      "text/plain": [
       "interactive(children=(IntSlider(value=100, description='halflife', max=200, min=1), Output()), _dom_classes=('…"
      ]
     },
     "metadata": {},
     "output_type": "display_data"
    }
   ],
   "source": [
    "w1 = interactive(decay_plot, halflife=(1,200,1))\n",
    "\n",
    "display(w1)"
   ]
  },
  {
   "cell_type": "code",
   "execution_count": null,
   "id": "5be1a289-4782-4e64-8db3-9d247e25c99f",
   "metadata": {},
   "outputs": [],
   "source": []
  }
 ],
 "metadata": {
  "kernelspec": {
   "display_name": "Python 3 (ipykernel)",
   "language": "python",
   "name": "python3"
  },
  "language_info": {
   "codemirror_mode": {
    "name": "ipython",
    "version": 3
   },
   "file_extension": ".py",
   "mimetype": "text/x-python",
   "name": "python",
   "nbconvert_exporter": "python",
   "pygments_lexer": "ipython3",
   "version": "3.10.7"
  }
 },
 "nbformat": 4,
 "nbformat_minor": 5
}
